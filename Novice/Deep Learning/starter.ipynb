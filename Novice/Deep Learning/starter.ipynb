{
 "cells": [
  {
   "cell_type": "markdown",
   "id": "824e1b84",
   "metadata": {},
   "source": [
    "# Deep Learning - Novice Level\n",
    "\n",
    "Pick **ONE** task and complete it.\n",
    "\n",
    "**Tasks:**\n",
    "1. Simple Neural Network\n",
    "2. Multi-class Classification\n",
    "3. Model Improvement"
   ]
  },
  {
   "cell_type": "code",
   "execution_count": null,
   "id": "372f026b",
   "metadata": {},
   "outputs": [],
   "source": [
    "# Import libraries\n",
    "import numpy as np"
   ]
  },
  {
   "cell_type": "markdown",
   "id": "5a7cde2e",
   "metadata": {},
   "source": [
    "## Task 1: Simple Neural Network"
   ]
  },
  {
   "cell_type": "code",
   "execution_count": null,
   "id": "68b4f46b",
   "metadata": {},
   "outputs": [],
   "source": [
    "# Create data"
   ]
  },
  {
   "cell_type": "code",
   "execution_count": null,
   "id": "7f917c43",
   "metadata": {},
   "outputs": [],
   "source": [
    "# Build network"
   ]
  },
  {
   "cell_type": "code",
   "execution_count": null,
   "id": "2c1c8a01",
   "metadata": {},
   "outputs": [],
   "source": [
    "# Train"
   ]
  },
  {
   "cell_type": "code",
   "execution_count": null,
   "id": "cfdd545d",
   "metadata": {},
   "outputs": [],
   "source": [
    "# Visualize decision boundary"
   ]
  },
  {
   "cell_type": "markdown",
   "id": "f421c64c",
   "metadata": {},
   "source": [
    "## Task 2: Multi-class Classification"
   ]
  },
  {
   "cell_type": "code",
   "execution_count": null,
   "id": "aee233e1",
   "metadata": {},
   "outputs": [],
   "source": [
    "# Load dataset"
   ]
  },
  {
   "cell_type": "code",
   "execution_count": null,
   "id": "412225a8",
   "metadata": {},
   "outputs": [],
   "source": [
    "# Build model"
   ]
  },
  {
   "cell_type": "code",
   "execution_count": null,
   "id": "f0f5d2fe",
   "metadata": {},
   "outputs": [],
   "source": [
    "# Train and evaluate"
   ]
  },
  {
   "cell_type": "code",
   "execution_count": null,
   "id": "cfa78ba2",
   "metadata": {},
   "outputs": [],
   "source": [
    "# Show confusion matrix"
   ]
  },
  {
   "cell_type": "markdown",
   "id": "888ba31f",
   "metadata": {},
   "source": [
    "## Task 3: Model Improvement"
   ]
  },
  {
   "cell_type": "code",
   "execution_count": null,
   "id": "931f63fb",
   "metadata": {},
   "outputs": [],
   "source": [
    "# Load dataset"
   ]
  },
  {
   "cell_type": "code",
   "execution_count": null,
   "id": "d7960172",
   "metadata": {},
   "outputs": [],
   "source": [
    "# Try different activation functions"
   ]
  },
  {
   "cell_type": "code",
   "execution_count": null,
   "id": "ff842ec6",
   "metadata": {},
   "outputs": [],
   "source": [
    "# Try different optimizers"
   ]
  },
  {
   "cell_type": "code",
   "execution_count": null,
   "id": "5ee3cf34",
   "metadata": {},
   "outputs": [],
   "source": [
    "# Compare results"
   ]
  }
 ],
 "metadata": {
  "language_info": {
   "name": "python"
  }
 },
 "nbformat": 4,
 "nbformat_minor": 5
}
