{
 "cells": [
  {
   "cell_type": "markdown",
   "id": "7434451f",
   "metadata": {},
   "source": [
    "# Computer Vision - Novice Level\n",
    "\n",
    "Pick **ONE** task and complete it.\n",
    "\n",
    "**Tasks:**\n",
    "1. Image Basics\n",
    "2. Image Filters\n",
    "3. Simple Classifier"
   ]
  },
  {
   "cell_type": "code",
   "execution_count": null,
   "id": "06a5f27f",
   "metadata": {},
   "outputs": [],
   "source": [
    "# Import libraries\n",
    "import numpy as np"
   ]
  },
  {
   "cell_type": "markdown",
   "id": "507d0638",
   "metadata": {},
   "source": [
    "## Task 1: Image Basics"
   ]
  },
  {
   "cell_type": "code",
   "execution_count": null,
   "id": "b75eb733",
   "metadata": {},
   "outputs": [],
   "source": [
    "# Load image"
   ]
  },
  {
   "cell_type": "code",
   "execution_count": null,
   "id": "40764082",
   "metadata": {},
   "outputs": [],
   "source": [
    "# Convert to grayscale"
   ]
  },
  {
   "cell_type": "code",
   "execution_count": null,
   "id": "6524faa3",
   "metadata": {},
   "outputs": [],
   "source": [
    "# Display both versions"
   ]
  },
  {
   "cell_type": "markdown",
   "id": "432a1cc6",
   "metadata": {},
   "source": [
    "## Task 2: Image Filters"
   ]
  },
  {
   "cell_type": "code",
   "execution_count": null,
   "id": "6df1aa27",
   "metadata": {},
   "outputs": [],
   "source": [
    "# Load image"
   ]
  },
  {
   "cell_type": "code",
   "execution_count": null,
   "id": "e86f8f9a",
   "metadata": {},
   "outputs": [],
   "source": [
    "# Apply blur"
   ]
  },
  {
   "cell_type": "code",
   "execution_count": null,
   "id": "ef15ba58",
   "metadata": {},
   "outputs": [],
   "source": [
    "# Apply edge detection"
   ]
  },
  {
   "cell_type": "code",
   "execution_count": null,
   "id": "d56b27aa",
   "metadata": {},
   "outputs": [],
   "source": [
    "# Display results"
   ]
  },
  {
   "cell_type": "markdown",
   "id": "dfed4a45",
   "metadata": {},
   "source": [
    "## Task 3: Simple Classifier"
   ]
  },
  {
   "cell_type": "code",
   "execution_count": null,
   "id": "c3750c00",
   "metadata": {},
   "outputs": [],
   "source": [
    "# Load dataset"
   ]
  },
  {
   "cell_type": "code",
   "execution_count": null,
   "id": "c17acbc0",
   "metadata": {},
   "outputs": [],
   "source": [
    "# Build model"
   ]
  },
  {
   "cell_type": "code",
   "execution_count": null,
   "id": "57f5b7ea",
   "metadata": {},
   "outputs": [],
   "source": [
    "# Train model"
   ]
  },
  {
   "cell_type": "code",
   "execution_count": null,
   "id": "de926147",
   "metadata": {},
   "outputs": [],
   "source": [
    "# Test and show accuracy"
   ]
  }
 ],
 "metadata": {
  "language_info": {
   "name": "python"
  }
 },
 "nbformat": 4,
 "nbformat_minor": 5
}
